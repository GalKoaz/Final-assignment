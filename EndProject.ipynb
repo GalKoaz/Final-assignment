{
 "cells": [
  {
   "cell_type": "code",
   "execution_count": null,
   "metadata": {},
   "outputs": [],
   "source": []
  },
  {
   "cell_type": "markdown",
   "metadata": {},
   "source": [
    "**Question 1.a:**\n",
    "\n",
    "*By the givin we know that the probability of giving birth to identical twins is: $\\dfrac {1}{300}$*\n",
    "\n",
    "*By the givin we know that the probability of giving birth to not identical twins is: $\\dfrac {1}{125}$*\n",
    "\n",
    "*By the givin we know that the probability of giving birth to a girl or boy is: $\\dfrac {1}{2}$*\n",
    "\n",
    "*The probability of giving birth to identical boy twins is: $$(\\dfrac{1}{300}\\cdot \\dfrac{1}{2})= \\dfrac{1}{600}$$*\n",
    "\n",
    "*The probability of no being an identical twins and being boy is: $$(\\dfrac{1}{125}\\cdot \\dfrac{1}{2}\\cdot \\dfrac{1}{2})=\\dfrac{1}{500}$$*\n",
    "\n",
    "*The probability that Elvis was an identical twin is: $$\\dfrac{\\dfrac{1}{300}\\cdot \\dfrac{1}{2}}{\\dfrac{1}{500}+ \\dfrac{1}{600}} = \\dfrac{5}{11}$$*\n",
    "\n",
    "\n",
    "**Question 1.b:**\n",
    "\n",
    "\n",
    "*We know that first cookie jar has 10 almoand cookies and 30 chocolate cookies,*\n",
    "\n",
    "*the second jar has 20 almond and chocolate cookies .*\n",
    "\n",
    "*by the given we know that Arik has taken a chocolate cookie ,*\n",
    "\n",
    "*The probablity of picking out chocolate cookie is : $(\\dfrac{1}{2}\\cdot\\dfrac{1}{2} +\\dfrac{1}{2}\\cdot\\dfrac{3}{4})=\\dfrac{5}{8}$*\n",
    "\n",
    "*The probablity that chocolate cookie was picking out from the first jar : $(\\dfrac{\\dfrac{1}{2}\\cdot \\dfrac{3}{4}}{\\dfrac{5}{8}})=(\\dfrac{3}{8}\\cdot\\dfrac{8}{5})=\\dfrac{3}{5}$*"
   ]
  },
  {
   "cell_type": "markdown",
   "metadata": {},
   "source": [
    "**Question 2:**\n",
    "\n",
    "*By the given we know that before the Year $1995$:\n",
    "Brown = $30\\%$ ,Yellow = $20\\%$ , Red = $20\\%$ ,Green = $10\\%$, Orange = $10\\%$ ,Tan = $10\\%$.*\n",
    "\n",
    "*After the year $1995$ we know that :\n",
    "Brown = $13\\%$ ,Yellow = $14\\%$ , Red = $13\\%$ ,Green = $20\\%$, Orange = $16\\%$ ,Blue = $24\\%$.*\n",
    "\n",
    "*Since there are two bags, let A be the bag from $1994$, and B be the bag from $1996$*\n",
    "\n",
    "*Then let AY imply we drew a yellow M&M from the $1994$ bag*\n",
    "\n",
    "*AG implies we drew a green M&M from the $1994$ bag*\n",
    "\n",
    "*BY implies imply we drew a yellow M&M from the $1996$ bag*\n",
    "\n",
    "*BG implies we drew a green M&M from the $1996$ bag*\n",
    "\n",
    "*$P(AY) = 0.2$, $P (BY) = 0.14$, $P(AG) =0.1$, $P(BG) =0.2$*\n",
    "\n",
    "*Since the draws from the $1994$ and $1996$ bag are independent,*\n",
    "\n",
    "*Therefore, $$P(AY and BG) =0.2\\cdot 0.2=0.04$$*\n",
    "\n",
    "*$$P(AY and BG) =0.1\\cdot 0.14=0.014$$*\n",
    "\n",
    "*The draws can happen in either of the $2$ ways in $(1)$ and $(2)$ above*\n",
    "\n",
    "*therefore total probability $C$ is given as $$P(AY and BG)\\cup P(AG and BY)$$*\n",
    "\n",
    "*$$C = 0.04+0.014 = 0.054$$*\n",
    "\n",
    "*For the yellow one to be from $1994$, it implies that the event to be chosen is $$P(AY and BG) =0.2\\cdot 0.2$$*\n",
    "\n",
    "*Since the total probability is given as $$C=0.054$$*\n",
    "\n",
    "*then, $$P((AY and BG)/C) =\\dfrac{0.04}{0.054}=0.7407$$*\n",
    "\n",
    "*Concluding statement: This is the condition for the Yellow one to come from $1994$ and green from $1996$ provided that they obey the condition from $C$*"
   ]
  },
  {
   "cell_type": "markdown",
   "metadata": {},
   "source": [
    "**Question 3.a:**\n",
    "\n",
    "the probiliatly you are sick. $P(A)= \\dfrac{1}{10000}$\n",
    "\n",
    "the test result was possitive $P(B) = \\dfrac {1}{10000} +\\dfrac{9999}{10000}\\cdot \\dfrac{1}{100}$\n",
    "\n",
    "$$P(B\\mid A) = 1 $$\n",
    "\n",
    "$$P(A\\mid B) =\\dfrac {P(B\\mid A) \\cdot P(A)}{P(B)}\\Longrightarrow \\dfrac{1\\cdot\\dfrac{1}{100}}{\\dfrac{1}{10000}+\\dfrac{9999}{10000}\\cdot \\dfrac{1}{100}}=\\dfrac{100}{10099}$$\n",
    "\n",
    "The probability you are get sick is : $\\dfrac{100}{10099}$\n",
    "\n",
    "**Question 3.b:**\n",
    "\n",
    "the probiliatly you are sick. $P(A)= \\dfrac{1}{200}$\n",
    "\n",
    "the test result was possitive $P(B) = \\dfrac{1}{200}+\\dfrac{199}{200}\\cdot \\dfrac{1}{100} = \\dfrac{299}{20000}$\n",
    "\n",
    "$$P(B\\mid A) = 1$$\n",
    "\n",
    "$$P(A\\mid B) =\\dfrac {P(B\\mid A) \\cdot P(A)}{P(B)}\\Longrightarrow \\dfrac{1\\cdot\\dfrac{1}{200}}{\\dfrac{299}{20000}}=\\dfrac{100}{299}$$\n",
    "\n",
    "The probability you are get sick is : $\\dfrac{100}{299}$"
   ]
  },
  {
   "cell_type": "markdown",
   "metadata": {},
   "source": [
    "**Question 4:**\n",
    "\n",
    "Roi roll $2$ six- sided dice, The probablilty the sum of dice is divisibly by $3$ is $\\dfrac{12}{36}$ then he will win $6\\$$\n",
    "\n",
    "the probability of the sum of dice is not divisibly by $3$ is $\\dfrac{26}{36}$\n",
    "\n",
    "then, $\\dfrac{12}{36}\\cdot 6\\$ = 2\\$$\n",
    "\n",
    "and $\\dfrac{24}{36}\\cdot (-3)\\$= -2\\$$\n",
    "\n",
    "the Expacted value is : \n",
    "\n",
    "$$\\dfrac{12}{36}\\cdot 6+\\dfrac{24}{36}\\cdot (-3) = 0$$\n",
    "\n"
   ]
  },
  {
   "cell_type": "markdown",
   "metadata": {},
   "source": [
    "**Question 5:**\n",
    "\n",
    "We have three cases in this question .\n",
    "\n",
    "Case one: break even $12$ thats mean the probability for alex to pick out two markers to get the sum of them is equal to 12: $\\dfrac{4}{25}$\n",
    "\n",
    "Case two: Lose $6$ USD thats mean the probability for alex to pick out two markers to get the sum of them is less then 12: $\\dfrac{15}{25}$\n",
    "\n",
    "Case three: win $5$ USD thats mean the probability for alex to pick out the sum of them is equal more then 12 : $\\dfrac{6}{25}$\n",
    "\n",
    "So the expected value is : \n",
    "\n",
    "To sum the all Cases $\\dfrac{4}{25}\\cdot 0\\$ +\\dfrac{15}{25}\\cdot(-6\\$)+\\dfrac{6}{25}\\cdot5 = \\dfrac{-12}{5} = -2.4 \\$$"
   ]
  },
  {
   "cell_type": "markdown",
   "metadata": {},
   "source": [
    "**Question 6:**\n",
    "\n",
    "In this question we seprated to some cases :\n",
    "\n",
    "By the given we know that there are 200 empolyes with 40% males and 60% female which means 80 males and 120 females \n",
    "\n",
    "We need to calculate the mean and the std.\n",
    "\n",
    "Therfore,\n",
    "\n",
    "let $n$ to be the sum of the total employees so, $n=8$\n",
    "\n",
    "let $p$ to be the $40\\%$ of the employees that male , so $p=0.4$\n",
    "\n",
    "the mean of the number of males selected each month : $\\mu_x= \\underset{p}{\\underbrace{0.4}} \\cdot \\underset{n}{\\underbrace{8}} = 3.2$\n",
    "\n",
    "$$\\sigma_x=\\sqrt{np(1-p)} \\Longrightarrow \\sigma_x=\\sqrt{8\\cdot0.4(1-0.4)} =\\sqrt{1.92} \\approx 1.386$$\n",
    "\n",
    "The Mean is : $3.2$\n",
    "\n",
    "The Std is : $1.386$"
   ]
  },
  {
   "attachments": {
    "9cf7b0c9-e53a-447d-8f2a-bda5d9da82ab.png": {
     "image/png": "[encoded data removed]"
    }
   },
   "cell_type": "markdown",
   "metadata": {},
   "source": [
    "**Question 7:**\n",
    "\n",
    "![0_qrVS5AzEIAKARkLT.png](attachment:9cf7b0c9-e53a-447d-8f2a-bda5d9da82ab.png)\n",
    "\n",
    "By the rule $68-95-99.7$ rule.\n",
    "\n",
    "The mean is $26$ and the std $=2$.\n",
    "\n",
    "We can see in the graph that if $\\{x\\in \\mathbb{R} : 26< x < 30\\}$\n",
    "\n"
   ]
  },
  {
   "cell_type": "markdown",
   "metadata": {},
   "source": [
    "**Question 8:**\n",
    "\n",
    "<div>\n",
    "<img src=\"attachment:9130bedd-5156-47b0-9121-b29e75e0b6f7.PNG\" width=\"300\" />\n",
    "</div>\n",
    "\n",
    "Given the following distribution, what is $P(x>3)$?\n",
    "\n",
    "to calculate the total $P$ in the graph we need to calculate the area of the triangle.\n",
    "\n",
    "The lenght of the axis $x = 5$ , the length of the hight is $0.4$\n",
    "\n",
    "Total area of the triangle is $P(x)\\Longrightarrow\\dfrac{5\\cdot0.4}{2}=1$\n",
    "\n",
    "The $P(x>3)\\Longrightarrow 1-\\dfrac{(5-2)\\cdot(0.4)}{2}=0.4$ \n"
   ]
  },
  {
   "cell_type": "markdown",
   "metadata": {},
   "source": [
    "**Qustion 9**\n",
    "\n",
    "By the given we know that there are $500$ employees and $60\\%$ of them have a childrens .\n",
    "\n",
    "Therefore, \n",
    "By the given we know that $300$ of these employees have children's that $0.6$\n",
    "\n",
    "Moreover, $40\\%$ of these employees have no children so that $0.4$\n",
    "\n",
    "The probability that exaclty 3 of the 4 employees selected have children is :\n",
    "$\\binom{4}{3}\\cdot(0.6)^3\\cdot0.4=\\dfrac{216}{625}$"
   ]
  },
  {
   "cell_type": "markdown",
   "metadata": {},
   "source": [
    "**Question 10**\n",
    "\n",
    "<div>\n",
    "<img src=\"attachment:48c5850e-e1d9-4638-8556-765c9d6ee6d2.PNG\" width=\"300\" />\n",
    "</div>\n",
    "\n",
    "the Expected value of the \n",
    "\n",
    "$((-10)\\cdot 0.1)+((-5)\\cdot 0.35)+(0\\cdot 0.1)+(10\\cdot0.1)+(5\\cdot 0.35) +(0\\cdot0.1)=0$\n"
   ]
  },
  {
   "cell_type": "code",
   "execution_count": null,
   "metadata": {},
   "outputs": [],
   "source": []
  },
  {
   "cell_type": "code",
   "execution_count": null,
   "metadata": {},
   "outputs": [],
   "source": []
  },
  {
   "cell_type": "code",
   "execution_count": null,
   "metadata": {},
   "outputs": [],
   "source": []
  },
  {
   "cell_type": "code",
   "execution_count": null,
   "metadata": {},
   "outputs": [],
   "source": []
  },
  {
   "cell_type": "code",
   "execution_count": null,
   "metadata": {},
   "outputs": [],
   "source": []
  }
 ],
 "metadata": {
  "kernelspec": {
   "display_name": "Python 3",
   "language": "python",
   "name": "python3"
  },
  "language_info": {
   "codemirror_mode": {
    "name": "ipython",
    "version": 3
   },
   "file_extension": ".py",
   "mimetype": "text/x-python",
   "name": "python",
   "nbconvert_exporter": "python",
   "pygments_lexer": "ipython3",
   "version": "3.8.6"
  }
 },
 "nbformat": 4,
 "nbformat_minor": 4
}
